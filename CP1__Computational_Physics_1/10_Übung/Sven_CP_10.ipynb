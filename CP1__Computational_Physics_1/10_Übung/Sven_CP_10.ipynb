{
 "cells": [
  {
   "cell_type": "code",
   "execution_count": 3,
   "metadata": {
    "collapsed": true
   },
   "outputs": [],
   "source": [
    "import numpy as np\n",
    "import matplotlib.pyplot as plt\n",
    "import scipy.integrate as integrate\n",
    "import scipy.constants as constants\n",
    "\n",
    "#import sympy as sp\n",
    "#from IPython.display import HTML, display, Math, Latex\n",
    "\n",
    "#plt.style.use('dark_background')\n",
    "plt.style.use('bmh')\n",
    "plt.rcParams['figure.figsize'] = (15.0, 9.0)\n",
    "plt.rcParams['figure.dpi'] = 200\n",
    "plt.rcParams['font.size'] = 16\n",
    "%matplotlib inline\n",
    "\n",
    "def tabelle_darstellen(data):\n",
    "    \"\"\"Eine Funktion, die Tabellen und Arrays schön darstellt\"\"\"\n",
    "    display(HTML(\n",
    "        '<table><tr>{}</tr></table>'.format(\n",
    "            '</tr><tr>'.join(\n",
    "                '<td>{}</td>'.format('</td><td>'.join(str(_) for _ in row)) for row in data)\n",
    "            )\n",
    "     ))\n",
    "\n",
    "def Fehlerfunktionsgenerator(funktion, variablen, name_funktion, name_ableitung):\n",
    "    \"\"\"Eine Funktion, die automatisch die Fehlerformel generiert\n",
    "    orientiert bei https://www.physi.uni-heidelberg.de/Einrichtungen/AP/python/Fehlerrechnung.html\n",
    "    \"\"\"\n",
    "    fehler = 0\n",
    "    fehlersymbole=[]\n",
    "    ableitungen_quadr = []\n",
    "\n",
    "    for var in variablen:\n",
    "        d = sp.symbols('d' + var.name)        #Symbole fuer die Fehler generieren\n",
    "        fehlersymbole.append(d)               #Fehlersymbole in Liste eintragen\n",
    "        partial = sp.diff(funktion, var) * d  #Partielle Differentation und mit mit Fehlersymbol 'd' multiplizieren\n",
    "        ableitungen_quadr.append(partial**2)  \n",
    "        fehler = fehler + partial**2\n",
    "\n",
    "    fehler_abs=sp.sqrt(fehler)              #Latex Format fuer den absoluten Fehler\n",
    "    fehler_abs_vereinfacht=sp.simplify(sp.sqrt(fehler))              #Latex Format fuer den absoluten Fehler\n",
    "    \n",
    "    print('Funktion: ', name_funktion,)\n",
    "    display(Math(\"=\"+sp.latex(funktion)))\n",
    "    print('Absoluter Fehler:', name_ableitung,\" = Δ\", name_funktion)\n",
    "    display(Math(\"=\"+sp.latex(fehler_abs).replace('d',r'\\Delta ') +'='+sp.latex(fehler_abs_vereinfacht).replace('d',r'\\Delta ')))   #Formel absoluter Fehler\n",
    "    return fehler_abs_vereinfacht\n",
    "\n",
    "def variablenname_zu_string(variable, lokale_variablen = locals()):\n",
    "    \"\"\"\"Funktion um den Namen im Code einer Codevariabel als String zu erhalten\"\"\"\n",
    "    for k, v in list(lokale_variablen.items()):\n",
    "        if v is variable:\n",
    "            return k"
   ]
  },
  {
   "cell_type": "markdown",
   "metadata": {},
   "source": [
    "# Aufgabe 10.1 Scattering angle\n",
    "$χ (b) = π - 2 ∫^∞_r + bdr r 2 √ 1 - b 2 / r 2 - V (r) / E$"
   ]
  },
  {
   "cell_type": "code",
   "execution_count": 4,
   "metadata": {
    "collapsed": true
   },
   "outputs": [],
   "source": [
    "χ_b = lambda b,E,r_0: np.pi - 2 * integrate.quad(\n",
    "    lambda r: b/(r**2 * np.sqrt(1-b**2/r**2-V(r)/E)),\n",
    "    r_0, np.inf)[0]\n",
    "χ_b1 = lambda b,E,r_0: np.pi - 2 * integrate.quad(\n",
    "    lambda r: b/(r**2 * np.sqrt(1-b**2/r**2-1/r**2/E)),\n",
    "    r_0, np.inf)[0]\n",
    "χ_b2 = lambda b,E,r_0: np.pi - 2 * integrate.quad(\n",
    "    lambda r: b/(r**2 * np.sqrt(1-b**2/r**2-1e-10/E)),\n",
    "    r_0, np.inf)[0]"
   ]
  },
  {
   "cell_type": "code",
   "execution_count": 7,
   "metadata": {},
   "outputs": [
    {
     "name": "stderr",
     "output_type": "stream",
     "text": [
      "/usr/lib/python3.6/site-packages/ipykernel_launcher.py:5: RuntimeWarning: invalid value encountered in sqrt\n",
      "  \"\"\"\n",
      "/usr/lib/python3.6/site-packages/scipy/integrate/quadpack.py:364: IntegrationWarning: The occurrence of roundoff error is detected, which prevents \n",
      "  the requested tolerance from being achieved.  The error may be \n",
      "  underestimated.\n",
      "  warnings.warn(msg, IntegrationWarning)\n"
     ]
    },
    {
     "data": {
      "text/plain": [
       "'V = lambda r: r**-12-2*r**-6\\nfor b in b_liste:\\n    plt.plot(b/r_0, χ_b(b, E, r_0)/np.pi+0.3,\"x\", c=\"C3\")'"
      ]
     },
     "execution_count": 7,
     "metadata": {},
     "output_type": "execute_result"
    },
    {
     "data": {
      "image/png": "[encoded data removed]",
      "text/plain": [
       "<matplotlib.figure.Figure at 0x7fe85a2ae470>"
      ]
     },
     "metadata": {},
     "output_type": "display_data"
    }
   ],
   "source": [
    "b_liste = np.linspace(0,1.9,100)\n",
    "E = 2\n",
    "r_0 = 2\n",
    "\n",
    "V = lambda r: 1e-10\n",
    "for b in b_liste:\n",
    "    plt.plot(b/r_0, χ_b(b, E, r_0)/np.pi,\"x\", c=\"C0\")\n",
    "\n",
    "V = lambda r: 1/r**2\n",
    "for b in b_liste:\n",
    "    plt.plot(b/r_0, χ_b1(b, E, r_0)/np.pi+0.1,\"x\", c=\"C1\")\n",
    "    \n",
    "V = lambda r: -np.exp(-r)\n",
    "for b in b_liste:\n",
    "    plt.plot(b/r_0, χ_b2(b, E, r_0)/np.pi+0.2,\"x\", c=\"C2\")\n",
    "\n",
    "\"\"\"V = lambda r: r**-12-2*r**-6\n",
    "for b in b_liste:\n",
    "    plt.plot(b/r_0, χ_b(b, E, r_0)/np.pi+0.3,\"x\", c=\"C3\")\"\"\""
   ]
  },
  {
   "cell_type": "code",
   "execution_count": 6,
   "metadata": {
    "collapsed": true
   },
   "outputs": [],
   "source": [
    "down = lambda r: 1/(r**2 * np.sqrt(1-b**2/r**2-V/E))"
   ]
  },
  {
   "cell_type": "code",
   "execution_count": 72,
   "metadata": {},
   "outputs": [
    {
     "name": "stderr",
     "output_type": "stream",
     "text": [
      "/usr/lib/python3.6/site-packages/ipykernel_launcher.py:6: RuntimeWarning: invalid value encountered in sqrt\n",
      "  \n"
     ]
    },
    {
     "data": {
      "text/plain": [
       "[<matplotlib.lines.Line2D at 0x7f39cca3a780>]"
      ]
     },
     "execution_count": 72,
     "metadata": {},
     "output_type": "execute_result"
    },
    {
     "data": {
      "image/png": "[encoded data removed]",
      "text/plain": [
       "<matplotlib.figure.Figure at 0x7f39cd50a278>"
      ]
     },
     "metadata": {},
     "output_type": "display_data"
    }
   ],
   "source": [
    "E = -0.1\n",
    "b = 1\n",
    "V = 1\n",
    "r = np.linspace(100,0,100)\n",
    "#plt.plot(r, down(r))\n",
    "plt.plot(r, np.sqrt(1-r/3))"
   ]
  },
  {
   "cell_type": "code",
   "execution_count": null,
   "metadata": {
    "collapsed": true
   },
   "outputs": [],
   "source": []
  },
  {
   "cell_type": "code",
   "execution_count": null,
   "metadata": {
    "collapsed": true
   },
   "outputs": [],
   "source": []
  },
  {
   "cell_type": "code",
   "execution_count": null,
   "metadata": {
    "collapsed": true
   },
   "outputs": [],
   "source": []
  },
  {
   "cell_type": "markdown",
   "metadata": {},
   "source": [
    "## Aufgabe 10.2\n",
    "$$F = ma$$\n",
    "$$F = -\\Delta V(r)$$"
   ]
  },
  {
   "cell_type": "markdown",
   "metadata": {},
   "source": [
    "$$a = \\ddot r = - \\Delta V(r)/m$$\n",
    "$$r = ∫∫-Delta V(r)/m$$"
   ]
  },
  {
   "cell_type": "markdown",
   "metadata": {},
   "source": [
    "$$V(r) =  \\frac{1}{r^{12}} - 2\\frac{1}{r^6}$$\n",
    "$$\\Delta V(r) =  \\frac{12(r^6-1)}{r^{13}} $$"
   ]
  },
  {
   "cell_type": "code",
   "execution_count": null,
   "metadata": {
    "collapsed": true
   },
   "outputs": [],
   "source": [
    "V = lambda r: 1/r**12 - 2*1/r**6\n",
    "dV = lambda r: (12 (r^6-1))/r^13\n"
   ]
  }
 ],
 "metadata": {
  "kernelspec": {
   "display_name": "Python 3",
   "language": "python",
   "name": "python3"
  },
  "language_info": {
   "codemirror_mode": {
    "name": "ipython",
    "version": 3
   },
   "file_extension": ".py",
   "mimetype": "text/x-python",
   "name": "python",
   "nbconvert_exporter": "python",
   "pygments_lexer": "ipython3",
   "version": "3.6.4"
  }
 },
 "nbformat": 4,
 "nbformat_minor": 2
}
