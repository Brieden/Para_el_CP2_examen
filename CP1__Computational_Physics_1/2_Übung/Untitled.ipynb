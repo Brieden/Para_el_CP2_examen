{
 "cells": [
  {
   "cell_type": "markdown",
   "metadata": {},
   "source": [
    "# Aufgabe\n",
    "### Basic equations :\n",
    "$$\n",
    "\\begin{matrix}\n",
    "x_{n+1}&=&4x_n(x - x_n) &(1)&\\\\\n",
    "\\phi_{n+1}&=&1-2|\\phi_n-\\frac{1}{2}| &(2)&\\\\\n",
    "x_n &=& \\text{sin}^2(\\frac{\\pi}{2}\\phi_n )&(3)&\\\\\n",
    "\\end{matrix}\n",
    "$$\n",
    "### further used equations :\n",
    "$$\\begin{matrix}\n",
    "\\text{sin}^2(x) &=& \\dfrac{1-\\text{cos}(2x)}{2}&(4)&\\\\\n",
    "\\text{cos}^2(x) &=& \\dfrac{1+\\text{sin}(2x)}{2}&(5)&\\\\\n",
    "\\text{sin}^2(x) + \\text{cos}^2(x) &=& 1 &(6)&\\\\\n",
    "\\end{matrix}\n",
    "$$\n",
    "(1): fully developed parabola with the initial value $x_0 ∈[0, 1]$ \n",
    "(2): analytically conjugate of (1)\n",
    "(3): identification between (1) and (2)\n",
    "(4) and (5): The power-reduction formulae of trigonometric identities\n",
    "(6): pythagorean identity"
   ]
  },
  {
   "cell_type": "code",
   "execution_count": null,
   "metadata": {
    "collapsed": true
   },
   "outputs": [],
   "source": []
  }
 ],
 "metadata": {
  "kernelspec": {
   "display_name": "Python 3",
   "language": "python",
   "name": "python3"
  },
  "language_info": {
   "codemirror_mode": {
    "name": "ipython",
    "version": 3
   },
   "file_extension": ".py",
   "mimetype": "text/x-python",
   "name": "python",
   "nbconvert_exporter": "python",
   "pygments_lexer": "ipython3",
   "version": "3.6.3"
  }
 },
 "nbformat": 4,
 "nbformat_minor": 2
}
