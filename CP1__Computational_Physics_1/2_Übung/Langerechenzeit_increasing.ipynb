{
 "cells": [
  {
   "cell_type": "code",
   "execution_count": 1,
   "metadata": {
    "collapsed": true
   },
   "outputs": [],
   "source": [
    "import numpy as np\n",
    "import matplotlib.pyplot as plt\n",
    "import time as time\n",
    "%matplotlib inline\n",
    "plt.rcParams['figure.figsize'] = (10.0, 3.0)"
   ]
  },
  {
   "cell_type": "code",
   "execution_count": 125,
   "metadata": {
    "collapsed": true
   },
   "outputs": [],
   "source": [
    "\"\"\"\n",
    "Achtung: Rechnet lange!\n",
    "\"\"\"\n",
    "def increasing(N):   \n",
    "#    print(\"in: \", N)\n",
    "    return sum([ (2 * n + 1) / (n**2 * (n + 1)**2) for n in range(1,N) ])\n",
    "def decreasing(N):   \n",
    "    print(\"de: \", N) \n",
    "    return sum([ (2 * (N-n) + 1) / ((N-n)**2 * ( N -n + 1)**2) for n in range(1,N) ])"
   ]
  },
  {
   "cell_type": "code",
   "execution_count": null,
   "metadata": {},
   "outputs": [],
   "source": [
    "\n",
    "used = set()\n",
    "n_rang = [x for x in [int(x) for x in (np.logspace(.1, 11, 200))] if x not in used and (used.add(x) or True)]\n",
    "np.savetxt(\"increasing.npy\",np.array([[0, 0, 0], [0, 0, 0]]))\n",
    "for N in n_rang:\n",
    "    t0 = time.time()\n",
    "    werte_increasing = 1 - increasing(N) \n",
    "    zeit = time.time() - t0\n",
    "    matrix_alt = np.loadtxt(\"increasing.npy\")\n",
    "    matrix_neu = np.array([[N, werte_increasing, zeit]])\n",
    "    np.savetxt(\"increasing.npy\", np.concatenate((matrix_alt, matrix_neu)))\n",
    "#    np.savetxt(\"werte_increasing.np\", np.array([[np.loadtxt(\"werte_increasing.np\")],\n",
    "#             [N,werte_increasing, zeit]]))\n",
    "#    matrix = np.loadtxt(\"werte_increasing.np\")\n",
    "#    np.savetxt(\"werte_increasing.np\", np.array([[matrix],[np.array([N,werte_increasing, zeit], dtype=float)]]))\n",
    "\n",
    "#print(\"now decreas\")\n",
    "#werte_decreasing = [ 1 - decreasing(N) for N in n_rang]\n",
    "#np.savetxt(\"werte_N.np\", n_rang)\n",
    "#np.savetxt(\"werte_decreasing.np\", werte_decreasing)\n",
    "#np.savetxt(\"zeit.np\", np.array([zeit]))\n",
    "#print(zeit)"
   ]
  },
  {
   "cell_type": "code",
   "execution_count": 1,
   "metadata": {},
   "outputs": [
    {
     "ename": "NameError",
     "evalue": "name 'plt' is not defined",
     "output_type": "error",
     "traceback": [
      "\u001b[0;31m---------------------------------------------------------------------------\u001b[0m",
      "\u001b[0;31mNameError\u001b[0m                                 Traceback (most recent call last)",
      "\u001b[0;32m<ipython-input-1-9e5762cadaf3>\u001b[0m in \u001b[0;36m<module>\u001b[0;34m()\u001b[0m\n\u001b[0;32m----> 1\u001b[0;31m \u001b[0mplt\u001b[0m\u001b[0;34m.\u001b[0m\u001b[0mplot\u001b[0m\u001b[0;34m(\u001b[0m\u001b[0mn_rang\u001b[0m\u001b[0;34m,\u001b[0m \u001b[0mwerte_increasing\u001b[0m\u001b[0;34m,\u001b[0m \u001b[0;34m\"x\"\u001b[0m\u001b[0;34m,\u001b[0m \u001b[0malpha\u001b[0m \u001b[0;34m=\u001b[0m \u001b[0;36m0.7\u001b[0m\u001b[0;34m)\u001b[0m\u001b[0;34m\u001b[0m\u001b[0m\n\u001b[0m\u001b[1;32m      2\u001b[0m \u001b[0mplt\u001b[0m\u001b[0;34m.\u001b[0m\u001b[0mplot\u001b[0m\u001b[0;34m(\u001b[0m\u001b[0mn_rang\u001b[0m\u001b[0;34m,\u001b[0m \u001b[0mwerte_decreasing\u001b[0m\u001b[0;34m,\u001b[0m \u001b[0;34m\"x\"\u001b[0m\u001b[0;34m,\u001b[0m \u001b[0malpha\u001b[0m \u001b[0;34m=\u001b[0m \u001b[0;36m0.7\u001b[0m\u001b[0;34m)\u001b[0m\u001b[0;34m\u001b[0m\u001b[0m\n\u001b[1;32m      3\u001b[0m \u001b[0;31m#plt.plot(n_rang, 1e-5 + 0*(n_rang), alpha = 0.5)\u001b[0m\u001b[0;34m\u001b[0m\u001b[0;34m\u001b[0m\u001b[0m\n\u001b[1;32m      4\u001b[0m \u001b[0mplt\u001b[0m\u001b[0;34m.\u001b[0m\u001b[0mxlabel\u001b[0m\u001b[0;34m(\u001b[0m\u001b[0;34m\"number of summands N\"\u001b[0m\u001b[0;34m)\u001b[0m\u001b[0;34m\u001b[0m\u001b[0m\n\u001b[1;32m      5\u001b[0m \u001b[0mplt\u001b[0m\u001b[0;34m.\u001b[0m\u001b[0mylabel\u001b[0m\u001b[0;34m(\u001b[0m\u001b[0;34m\"accuracy or error\"\u001b[0m\u001b[0;34m)\u001b[0m\u001b[0;34m\u001b[0m\u001b[0m\n",
      "\u001b[0;31mNameError\u001b[0m: name 'plt' is not defined"
     ]
    }
   ],
   "source": [
    "plt.plot(n_rang, werte_increasing, \"x\", alpha = 0.7)\n",
    "plt.plot(n_rang, werte_decreasing, \"x\", alpha = 0.7)\n",
    "#plt.plot(n_rang, 1e-5 + 0*(n_rang), alpha = 0.5)\n",
    "plt.xlabel(\"number of summands N\")\n",
    "plt.ylabel(\"accuracy or error\")\n",
    "plt.loglog()"
   ]
  },
  {
   "cell_type": "code",
   "execution_count": 3,
   "metadata": {},
   "outputs": [
    {
     "data": {
      "text/plain": [
       "array([[  3.00000000e+00,   1.11111111e-01,   2.73227692e-04],\n",
       "       [  3.00000000e+00,   1.11111111e-01,   2.73227692e-04]])"
      ]
     },
     "execution_count": 3,
     "metadata": {},
     "output_type": "execute_result"
    }
   ],
   "source": [
    "np.array((np.loadtxt(\"werte_increasing.np\"),np.loadtxt(\"werte_increasing.np\"),))"
   ]
  },
  {
   "cell_type": "code",
   "execution_count": 13,
   "metadata": {},
   "outputs": [
    {
     "name": "stderr",
     "output_type": "stream",
     "text": [
      "/usr/lib/python3.6/site-packages/ipykernel/__main__.py:1: UserWarning: loadtxt: Empty input file: \"werte_increasing.np\"\n",
      "  if __name__ == '__main__':\n"
     ]
    },
    {
     "data": {
      "text/plain": [
       "array([list([array([], dtype=float64)]),\n",
       "       list([1, 1, 7.915496826171875e-05])], dtype=object)"
      ]
     },
     "execution_count": 13,
     "metadata": {},
     "output_type": "execute_result"
    }
   ],
   "source": [
    "np.array([[np.loadtxt(\"werte_increasing.np\")],[N,werte_increasing, float(zeit)]])"
   ]
  },
  {
   "cell_type": "code",
   "execution_count": 31,
   "metadata": {},
   "outputs": [
    {
     "name": "stdout",
     "output_type": "stream",
     "text": [
      "in:  3\n",
      "0.0003273487091064453 1 0.8888888888888888\n"
     ]
    }
   ],
   "source": [
    "print(zeit, N, increasing(3))"
   ]
  },
  {
   "cell_type": "code",
   "execution_count": 23,
   "metadata": {},
   "outputs": [
    {
     "data": {
      "text/plain": [
       "array([], dtype=float64)"
      ]
     },
     "execution_count": 23,
     "metadata": {},
     "output_type": "execute_result"
    }
   ],
   "source": [
    "\n",
    "with open(outfile+'.x.betas','a') as f_handle:\n",
    "    np.savetxt(f_handle,dataPoint)"
   ]
  },
  {
   "cell_type": "code",
   "execution_count": 34,
   "metadata": {},
   "outputs": [
    {
     "name": "stdout",
     "output_type": "stream",
     "text": [
      "in:  3\n"
     ]
    },
    {
     "data": {
      "text/plain": [
       "array([  3.27348709e-04,   1.00000000e+00,   8.88888889e-01])"
      ]
     },
     "execution_count": 34,
     "metadata": {},
     "output_type": "execute_result"
    }
   ],
   "source": [
    "my_matrix = np.array([zeit, N, increasing(3)])\n",
    "my_matrix"
   ]
  },
  {
   "cell_type": "code",
   "execution_count": 50,
   "metadata": {},
   "outputs": [
    {
     "data": {
      "text/plain": [
       "array([  3.27348709e-04,   1.00000000e+00,   8.88888889e-01,\n",
       "         3.27348709e-04,   1.00000000e+00,   8.88888889e-01,\n",
       "         3.27348709e-04,   1.00000000e+00,   8.88888889e-01])"
      ]
     },
     "execution_count": 50,
     "metadata": {},
     "output_type": "execute_result"
    }
   ],
   "source": [
    "#np.savetxt(\"increasing.npy\", my_matrix)\n",
    "matrix0 = np.loadtxt(\"increasing.npy\")\n",
    "matrix0"
   ]
  },
  {
   "cell_type": "code",
   "execution_count": 51,
   "metadata": {},
   "outputs": [
    {
     "data": {
      "text/plain": [
       "array([  3.27348709e-04,   1.00000000e+00,   8.88888889e-01,\n",
       "         3.27348709e-04,   1.00000000e+00,   8.88888889e-01,\n",
       "         3.27348709e-04,   1.00000000e+00,   8.88888889e-01,\n",
       "         3.27348709e-04,   1.00000000e+00,   8.88888889e-01])"
      ]
     },
     "execution_count": 51,
     "metadata": {},
     "output_type": "execute_result"
    }
   ],
   "source": [
    "matrix01 = np.concatenate((my_matrix, matrix0))\n",
    "matrix01"
   ]
  },
  {
   "cell_type": "code",
   "execution_count": 55,
   "metadata": {
    "collapsed": true
   },
   "outputs": [],
   "source": [
    "np.savetxt(\"increasing.npy\", np.concatenate((np.loadtxt(\"increasing.npy\"), matrix0)))"
   ]
  },
  {
   "cell_type": "code",
   "execution_count": 56,
   "metadata": {},
   "outputs": [
    {
     "data": {
      "text/plain": [
       "array([  3.27348709e-04,   1.00000000e+00,   8.88888889e-01,\n",
       "         3.27348709e-04,   1.00000000e+00,   8.88888889e-01,\n",
       "         3.27348709e-04,   1.00000000e+00,   8.88888889e-01,\n",
       "         3.27348709e-04,   1.00000000e+00,   8.88888889e-01,\n",
       "         3.27348709e-04,   1.00000000e+00,   8.88888889e-01,\n",
       "         3.27348709e-04,   1.00000000e+00,   8.88888889e-01,\n",
       "         3.27348709e-04,   1.00000000e+00,   8.88888889e-01,\n",
       "         3.27348709e-04,   1.00000000e+00,   8.88888889e-01,\n",
       "         3.27348709e-04,   1.00000000e+00,   8.88888889e-01])"
      ]
     },
     "execution_count": 56,
     "metadata": {},
     "output_type": "execute_result"
    }
   ],
   "source": [
    "np.loadtxt(\"increasing.npy\")"
   ]
  },
  {
   "cell_type": "code",
   "execution_count": 112,
   "metadata": {
    "collapsed": true
   },
   "outputs": [],
   "source": [
    "?np.concatenate"
   ]
  },
  {
   "cell_type": "code",
   "execution_count": 69,
   "metadata": {},
   "outputs": [
    {
     "name": "stdout",
     "output_type": "stream",
     "text": [
      "[0 0 0]\n"
     ]
    }
   ],
   "source": [
    "print(np.array([0,0,0]))"
   ]
  },
  {
   "cell_type": "code",
   "execution_count": 76,
   "metadata": {},
   "outputs": [
    {
     "data": {
      "text/plain": [
       "array([  0.00000000e+00,   0.00000000e+00,   0.00000000e+00,\n",
       "         1.00000000e+00,   1.00000000e+00,   1.08718872e-04])"
      ]
     },
     "execution_count": 76,
     "metadata": {},
     "output_type": "execute_result"
    }
   ],
   "source": [
    "np.loadtxt(\"increasing.npy\")"
   ]
  },
  {
   "cell_type": "code",
   "execution_count": 110,
   "metadata": {},
   "outputs": [
    {
     "ename": "ValueError",
     "evalue": "all the input arrays must have same number of dimensions",
     "output_type": "error",
     "traceback": [
      "\u001b[0;31m---------------------------------------------------------------------------\u001b[0m",
      "\u001b[0;31mValueError\u001b[0m                                Traceback (most recent call last)",
      "\u001b[0;32m<ipython-input-110-89976844d239>\u001b[0m in \u001b[0;36m<module>\u001b[0;34m()\u001b[0m\n\u001b[0;32m----> 1\u001b[0;31m \u001b[0mnp\u001b[0m\u001b[0;34m.\u001b[0m\u001b[0mconcatenate\u001b[0m\u001b[0;34m(\u001b[0m\u001b[0;34m(\u001b[0m\u001b[0;34m[\u001b[0m\u001b[0mmatrix_alt\u001b[0m\u001b[0;34m]\u001b[0m\u001b[0;34m,\u001b[0m \u001b[0;34m[\u001b[0m\u001b[0mmatrix_neu\u001b[0m\u001b[0;34m]\u001b[0m\u001b[0;34m)\u001b[0m\u001b[0;34m)\u001b[0m\u001b[0;34m\u001b[0m\u001b[0m\n\u001b[0m",
      "\u001b[0;31mValueError\u001b[0m: all the input arrays must have same number of dimensions"
     ]
    }
   ],
   "source": [
    "np.concatenate(([matrix_alt], [matrix_neu]))"
   ]
  },
  {
   "cell_type": "code",
   "execution_count": 104,
   "metadata": {},
   "outputs": [
    {
     "data": {
      "text/plain": [
       "array([[  0.00000000e+00,   0.00000000e+00,   0.00000000e+00],\n",
       "       [  1.00000000e+00,   1.00000000e+00,   5.86271286e-04]])"
      ]
     },
     "execution_count": 104,
     "metadata": {},
     "output_type": "execute_result"
    }
   ],
   "source": [
    "matrix_alt"
   ]
  },
  {
   "cell_type": "code",
   "execution_count": 105,
   "metadata": {},
   "outputs": [
    {
     "data": {
      "text/plain": [
       "array([  2.00000000e+00,   2.50000000e-01,   4.44650650e-04])"
      ]
     },
     "execution_count": 105,
     "metadata": {},
     "output_type": "execute_result"
    }
   ],
   "source": [
    "matrix_neu"
   ]
  },
  {
   "cell_type": "code",
   "execution_count": 116,
   "metadata": {},
   "outputs": [
    {
     "data": {
      "text/plain": [
       "array([[1, 2, 3],\n",
       "       [3, 4, 4],\n",
       "       [5, 7, 6]])"
      ]
     },
     "execution_count": 116,
     "metadata": {},
     "output_type": "execute_result"
    }
   ],
   "source": [
    "a = np.array([[0, 0, 0], [0, 0, 0]])\n",
    "b = np.array([[5, 7, 6]])\n",
    "np.concatenate((a,b))"
   ]
  },
  {
   "cell_type": "code",
   "execution_count": 118,
   "metadata": {},
   "outputs": [
    {
     "data": {
      "text/plain": [
       "array([[5, 7, 6]])"
      ]
     },
     "execution_count": 118,
     "metadata": {},
     "output_type": "execute_result"
    }
   ],
   "source": [
    "b"
   ]
  },
  {
   "cell_type": "code",
   "execution_count": null,
   "metadata": {
    "collapsed": true
   },
   "outputs": [],
   "source": []
  }
 ],
 "metadata": {
  "kernelspec": {
   "display_name": "Python 3",
   "language": "python",
   "name": "python3"
  },
  "language_info": {
   "codemirror_mode": {
    "name": "ipython",
    "version": 3
   },
   "file_extension": ".py",
   "mimetype": "text/x-python",
   "name": "python",
   "nbconvert_exporter": "python",
   "pygments_lexer": "ipython3",
   "version": "3.6.3"
  }
 },
 "nbformat": 4,
 "nbformat_minor": 2
}
