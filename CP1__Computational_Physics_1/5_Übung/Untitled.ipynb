{
 "cells": [
  {
   "cell_type": "code",
   "execution_count": 20,
   "metadata": {
    "collapsed": true
   },
   "outputs": [],
   "source": [
    "import scipy as sci\n",
    "import numpy as np\n",
    "import matplotlib.pyplot as plt\n",
    "import scipy.linalg as linalg"
   ]
  },
  {
   "cell_type": "code",
   "execution_count": 21,
   "metadata": {
    "collapsed": true
   },
   "outputs": [],
   "source": [
    "a1_1 = lambda x1, x2: 1 + 1/2 * (3 * (x2-x1)**2/abs(x2-x1)**5 - 1/abs(x2-x1)**3)\n",
    "a1_2 = lambda x1, x2: 1/2 * ( - 3 * (x2-x1)**2/abs(x1-x2)**5 + 1/abs(x1-x2)**3)\n",
    "a2_1 = lambda x1, x2: 1/2 * ( - 3 * (x1-x2)**2/abs(x2-x1)**5 + 1/abs(x2-x1)**3)\n",
    "a2_2 = lambda x1, x2: 1 + 1/2 * (3 * (x1-x2)**2/abs(x1-x2)**5 - 1/abs(x1-x2)**3)\n"
   ]
  },
  {
   "cell_type": "code",
   "execution_count": 26,
   "metadata": {},
   "outputs": [],
   "source": [
    "x = np.random.rand(2)\n",
    "x = np.array([10,-4])\n",
    "x1, x2 = x[0], x[1]\n",
    "j = np.array([[a1_1(x1,x2), a1_2(x1,x2)],[a2_1(x1,x2), a2_2(x1,x2)]])"
   ]
  },
  {
   "cell_type": "code",
   "execution_count": 27,
   "metadata": {},
   "outputs": [
    {
     "name": "stdout",
     "output_type": "stream",
     "text": [
      "0 1.0 [-0.70710678 -0.70710678]\n",
      "1 1.00072886297 [-0.70710678  0.70710678]\n"
     ]
    },
    {
     "data": {
      "image/png": "[encoded data removed]",
      "text/plain": [
       "<matplotlib.figure.Figure at 0x7fa97b4d4278>"
      ]
     },
     "metadata": {},
     "output_type": "display_data"
    }
   ],
   "source": [
    "ew,ev = sci.linalg.eigh(j) \n",
    "N =2\n",
    "basevect=sci.ones(N)                 # time = number of iterates\n",
    "for l in range(x.shape[0]):\n",
    "    print(l,ew[l], ev[:,l])             # print eigenvalue and eigenvector\n",
    "#    ypos=(l+1)*basevect                     # y-position for \n",
    "    ypos=-ew[l]*basevect                     # y-position for \n",
    "    plt.plot(x,ypos,'ob')               # .. particle positions\n",
    "    plt.quiver(x,ypos,ev[:,l].reshape(N),0*ypos,scale=8) # & eigenvectors\n",
    "\n",
    "#plt.xlim(-3, 3)\n",
    "#plt.ylim(ymin=0)\n",
    "plt.xlabel('Position')\n",
    "plt.ticklabel_format(style='plain')\n",
    "plt.ylabel('$\\omega^2$')\n",
    "plt.title('Eigenmodes')\n",
    "plt.show()\n"
   ]
  },
  {
   "cell_type": "code",
   "execution_count": null,
   "metadata": {
    "collapsed": true
   },
   "outputs": [],
   "source": []
  }
 ],
 "metadata": {
  "kernelspec": {
   "display_name": "Python 3",
   "language": "python",
   "name": "python3"
  },
  "language_info": {
   "codemirror_mode": {
    "name": "ipython",
    "version": 3
   },
   "file_extension": ".py",
   "mimetype": "text/x-python",
   "name": "python",
   "nbconvert_exporter": "python",
   "pygments_lexer": "ipython3",
   "version": "3.6.3"
  }
 },
 "nbformat": 4,
 "nbformat_minor": 2
}
