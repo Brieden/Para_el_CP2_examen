{
 "cells": [
  {
   "cell_type": "code",
   "execution_count": 3,
   "metadata": {
    "collapsed": true
   },
   "outputs": [],
   "source": [
    "import numpy as np\n",
    "import matplotlib.pyplot as plt\n",
    "from scipy.integrate import odeint\n",
    "from mpl_toolkits.mplot3d import Axes3D\n",
    "from ipywidgets import interact, widget, fixed\n",
    "\n",
    "#%matplotlib notebook\n",
    "%matplotlib inline\n",
    "plt.rcParams['figure.figsize'] = (10.0, 6.0)\n",
    "plt.rcParams['font.size'] = 16"
   ]
  },
  {
   "cell_type": "markdown",
   "metadata": {},
   "source": [
    "## Aufgabe 11.1"
   ]
  },
  {
   "cell_type": "code",
   "execution_count": 4,
   "metadata": {},
   "outputs": [
    {
     "data": {
      "application/vnd.jupyter.widget-view+json": {
       "model_id": "41e58b99e6ad44c8bd4ffbc09a02b976"
      }
     },
     "metadata": {},
     "output_type": "display_data"
    }
   ],
   "source": [
    "def ode(xyz, t, σ, r, b):\n",
    "    x, y, z = xyz\n",
    "    return σ*(y-x), r*x-y-x*z, x*y-b*z\n",
    "\n",
    "@interact(x_0 = (-9, 11, 0.01), y_0 = (-9, 11, 0.01), z_0 = (-9, 11, 0.01),\n",
    "          t_max = (0, 80), r=(-3, 59, 0.1), σ =(-3, 23, 0.1), b=8/3)\n",
    "def Lorenz_system(x_0, y_0, z_0, t_max, r, σ, b):\n",
    "\n",
    "    t = np.arange(0, t_max, 0.01)\n",
    "    trajektorie = odeint(ode, [x_0, y_0, z_0], t, args=(σ, r, b))\n",
    "    distanz = np.sqrt(trajektorie[:,0]**2\n",
    "                       +trajektorie[:,1]**2\n",
    "                       +trajektorie[:,2]**2)\n",
    "    \n",
    "    fig = plt.figure()\n",
    "    ax = fig.gca(projection='3d')\n",
    "    ax.plot(trajektorie[:,0], trajektorie[:,1], trajektorie[:,2])\n",
    "    plt.show()\n",
    "\n",
    "    #plt.plot(t, distanz)\n",
    "    #plt.xlabel(\"Zeit t\"), plt.ylabel(\"Distanz zum Ursprung\"), plt.show()"
   ]
  },
  {
   "cell_type": "markdown",
   "metadata": {},
   "source": [
    "Ich beobachte, dass sich das System für die allermeisten Startwerte sehr stabil verhält. Die Parameter haben Einfluss auf die Gestallt: auf die Anzahl die Fixpunkte."
   ]
  }
 ],
 "metadata": {
  "kernelspec": {
   "display_name": "Python 3",
   "language": "python",
   "name": "python3"
  },
  "language_info": {
   "codemirror_mode": {
    "name": "ipython",
    "version": 3
   },
   "file_extension": ".py",
   "mimetype": "text/x-python",
   "name": "python",
   "nbconvert_exporter": "python",
   "pygments_lexer": "ipython3",
   "version": "3.6.4"
  }
 },
 "nbformat": 4,
 "nbformat_minor": 2
}
