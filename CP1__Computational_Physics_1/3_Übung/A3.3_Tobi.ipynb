{
 "cells": [
  {
   "cell_type": "code",
   "execution_count": 1,
   "metadata": {},
   "outputs": [],
   "source": [
    "import scipy  \n",
    "import numpy as np\n",
    "import math \n",
    "import matplotlib.pyplot as plt\n",
    "import matplotlib as mpl # für Farben\n",
    "import time"
   ]
  },
  {
   "cell_type": "code",
   "execution_count": 2,
   "metadata": {
    "collapsed": true
   },
   "outputs": [],
   "source": [
    "def newton_c(z0,a,nend):                      # Iteration auf die Nullstelle z0=1\n",
    "    zn = z0\n",
    "    n = 0\n",
    "    r = 100000\n",
    "    while(r>=10**(-2) and n<nend):             #\"r>=10**(-2)\" ist Abbruchbed. sonst \"while\" bis nend\n",
    "        znp = zn-((zn**3)+((a-1)*zn)-a)/(3*(zn**2)+(a-1))\n",
    "        zn = znp\n",
    "        n = n+1\n",
    "        r = math.sqrt((znp.imag)**2 +(1-znp.real)**2)   # Abstand zur Nullstelle z0=1\n",
    "    if (znp !=1):\n",
    "        znp=0\n",
    "    return znp,n\n",
    "\n",
    "def newton_c_div(z0,a,nend):                    # Iteration auf alle Nullstellen\n",
    "    zn = z0\n",
    "    n = 0\n",
    "    n1 = 0\n",
    "    n2 = 0\n",
    "    n3 = 0\n",
    "    r1 = 100000\n",
    "    r2 = 100000\n",
    "    r3 = 100000\n",
    "    \n",
    "    while(n1<nend and r1>=10**(-2)):                           #Check z0=0\n",
    "        znp = zn-((zn**3)+((a-1)*zn)-a)/(3*(zn**2)+(a-1))\n",
    "        zn = znp\n",
    "        n1 = n1+1\n",
    "        r1 = math.sqrt((znp.imag)**2 +(znp.real)**2)  #z0=0\n",
    "    \n",
    "    zn = z0    \n",
    "    while(n2<nend and r2>=10**(-2)):                           #Check z0=1\n",
    "        znp = zn-((zn**3)+((a-1)*zn)-a)/(3*(zn**2)+(a-1))\n",
    "        zn = znp\n",
    "        n2 = n2+1\n",
    "        r2 = math.sqrt((znp.imag)**2 +(1-znp.real)**2) #z0=1\n",
    "    \n",
    "    zn = z0\n",
    "    while(n3<nend and r3>=10**(-2)):                           #Check z0=-1\n",
    "        znp = zn-((zn**3)+((a-1)*zn)-a)/(3*(zn**2)+(a-1))\n",
    "        zn = znp\n",
    "        n3 = n3+1\n",
    "        r3 = math.sqrt((znp.imag)**2 +(1+znp.real)**2) #z0=-1\n",
    "        \n",
    "    if(n1==nend and n2==nend):\n",
    "         n=n3\n",
    "    \n",
    "    if(n2==nend and n3==nend):\n",
    "         n=n1\n",
    "    \n",
    "    if(n1==nend and n3==nend):\n",
    "         n=n2\n",
    "    \n",
    "    if(n1==nend and n2==nend and n3==nend):\n",
    "         n=nend\n",
    "         \n",
    "    return znp,n"
   ]
  },
  {
   "cell_type": "code",
   "execution_count": 3,
   "metadata": {
    "collapsed": true
   },
   "outputs": [],
   "source": [
    "size = 5    # Qudaratisches Intervall um Ursprung 20, 0.3,40\n",
    "step = .005       # Schrittweite für Real- und Imaginär-Achse\n",
    "nend = 40  # Anzahl der maximalen Iterationsschritte\n",
    "intv = np.arange(-size/2,size/2+step,step)\n",
    "\n",
    "################\n",
    "#Part 1\n",
    "################\n",
    "\n",
    "#  Matrix       (         (            Reale Spalten                     )*imaginäre Zeilen)         \n",
    "werte = np.array([np.array([newton_c(complex(re,im),0,nend)[1]for re in intv])for im in intv])"
   ]
  },
  {
   "cell_type": "code",
   "execution_count": 21,
   "metadata": {},
   "outputs": [
    {
     "data": {
      "image/png": "[encoded data removed]",
      "text/plain": [
       "<matplotlib.figure.Figure at 0x7f08c1d952b0>"
      ]
     },
     "metadata": {},
     "output_type": "display_data"
    }
   ],
   "source": [
    "plt.imshow(werte.real,cmap='jet',interpolation = 'none',aspect ='auto',extent =[-size/2,size/2,-size/2,size/2]) # umbenennen des Plots für Colorbar\n",
    "plt.colorbar(wertefeld, ticks=[1,nend])\n",
    "\n",
    "plt.title('Number of iterations for the root z0=1')\n",
    "plt.ylabel('Imaginäre Achse')\n",
    "plt.xlabel('Reale Achse')\n",
    "plt.show()"
   ]
  },
  {
   "cell_type": "code",
   "execution_count": 22,
   "metadata": {
    "collapsed": true
   },
   "outputs": [],
   "source": [
    "########################\n",
    "# Part 2\n",
    "########################\n",
    "#a=complex(0.32,1.64)\n",
    "                                                    ######HIER IST A ######               \n",
    "#  Matrix       (         (            Reale Spalten                     )*imaginäre Zeilen)         \n",
    "werte = np.array([np.array([newton_c_div(complex(re,im),complex(0.32,1.64),nend)[1]for re in intv])for im in intv])"
   ]
  },
  {
   "cell_type": "code",
   "execution_count": 23,
   "metadata": {},
   "outputs": [
    {
     "data": {
      "text/plain": [
       "Text(0.5,0,'Reale Achse')"
      ]
     },
     "execution_count": 23,
     "metadata": {},
     "output_type": "execute_result"
    }
   ],
   "source": [
    "#fig = plt.subplots(figsize=(10,10),dpi=100)  # zwei Plots definieren, fig ist der Colorbar\n",
    "\n",
    "plt.imshow(werte.real,cmap='jet',interpolation = 'none',aspect ='auto',extent =[-size/2,size/2,-size/2,size/2]) # umbenennen des Plots für Colorbar\n",
    "fig.colorbar(wertefeld, ticks=[1,nend])\n",
    "\n",
    "plt.title('Number of iterations for any roots')\n",
    "plt.ylabel('Imaginäre Achse')\n",
    "plt.xlabel('Reale Achse')\n",
    "\n",
    "# =============================================================================\n",
    "# plt.figure(num='none',figsize=(10,10),dpi=150)\n",
    "# plt.title('Startwerte für z, die nach Nullstelle konvergieren (gleiche Farbe)')\n",
    "# plt.ylabel('Imaginäre Achse')\n",
    "# plt.xlabel('Reale Achse')\n",
    "# \n",
    "# plt.imshow(werte.real,cmap='jet',interpolation = 'none',aspect ='auto',extent =[-size/2,size/2,-size/2,size/2])\n",
    "# \n",
    "# \n",
    "# ============================================================================="
   ]
  },
  {
   "cell_type": "code",
   "execution_count": null,
   "metadata": {},
   "outputs": [],
   "source": [
    "fig, plt = plt.subplots(figsize=(10,10),dpi=100)  # zwei Plots definieren, fig ist der Colorbar\n"
   ]
  },
  {
   "cell_type": "code",
   "execution_count": null,
   "metadata": {
    "collapsed": true
   },
   "outputs": [],
   "source": []
  }
 ],
 "metadata": {
  "kernelspec": {
   "display_name": "Python 3",
   "language": "python",
   "name": "python3"
  },
  "language_info": {
   "codemirror_mode": {
    "name": "ipython",
    "version": 3
   },
   "file_extension": ".py",
   "mimetype": "text/x-python",
   "name": "python",
   "nbconvert_exporter": "python",
   "pygments_lexer": "ipython3",
   "version": "3.6.3"
  }
 },
 "nbformat": 4,
 "nbformat_minor": 2
}
