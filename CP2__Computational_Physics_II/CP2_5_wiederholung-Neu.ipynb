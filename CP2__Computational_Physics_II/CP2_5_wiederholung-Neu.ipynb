{
 "cells": [
  {
   "cell_type": "code",
   "execution_count": 1,
   "metadata": {},
   "outputs": [],
   "source": [
    "%matplotlib inline\n",
    "import numpy as np\n",
    "import matplotlib.pyplot as plt"
   ]
  },
  {
   "cell_type": "code",
   "execution_count": 16,
   "metadata": {},
   "outputs": [],
   "source": [
    "def H(i,j):\n",
    "    H = 2*J*spins[i, j]*sum([spins[(i+1)%N,j],\n",
    "                             spins[(i-1)%N,j],\n",
    "                             spins[i,(j+1)%N],\n",
    "                             spins[i,(j-1)%N]])\n",
    "    return H\n",
    "\n",
    "def montecarlo():\n",
    "    for i in np.random.permutation([(x,y) for x in range(N) for y in range(N)]):\n",
    "        if H(i[0],i[1])<=0:\n",
    "            spins[i[0], i[1]] *= -1\n",
    "        elif np.exp(-H(i[0],i[1])/t) > np.random.rand():\n",
    "            spins[i[0], i[1]] *= -1\n",
    "    return spins\n",
    "\n",
    "N = 16             #  lenth of the ring\n",
    "J =  1              #  coupling constant\n",
    "T =  np.linspace(0.1,5,20)\n",
    "versuche = 15\n",
    "\n",
    "energie = np.zeros((len(T)))\n",
    "heat = np.zeros((len(T)))\n",
    "mag = np.zeros((len(T)))\n",
    "mag_dump = np.zeros(versuche)\n",
    "energie_dump = np.zeros(versuche)\n",
    "for nt, t in enumerate(T):\n",
    "    for v in range(versuche):\n",
    "        spins = np.random.choice((-1,1),(N,N))\n",
    "        for i in range(50):\n",
    "            montecarlo()\n",
    "        mag_dump[v] = abs(np.sum(spins))/N/N\n",
    "        for i in [(x,y) for x in range(N) for y in range(N)]:\n",
    "            energie_dump[v] += H(i[0], i[1])\n",
    "    heat[nt] += abs(np.sum(spins))/N/N\n",
    "    energie[nt] = np.median(energie_dump)/N/N\n",
    "    mag[nt] = np.median(mag_dump)"
   ]
  },
  {
   "cell_type": "code",
   "execution_count": 17,
   "metadata": {},
   "outputs": [
    {
     "data": {
      "image/png": "[encoded data removed]",
      "text/plain": [
       "<Figure size 432x288 with 1 Axes>"
      ]
     },
     "metadata": {},
     "output_type": "display_data"
    },
    {
     "data": {
      "image/png": "[encoded data removed]",
      "text/plain": [
       "<Figure size 432x288 with 1 Axes>"
      ]
     },
     "metadata": {},
     "output_type": "display_data"
    }
   ],
   "source": [
    "plt.plot(T,mag,\".\")\n",
    "plt.show()\n",
    "plt.plot(T,energie,\".\")\n",
    "plt.show()"
   ]
  },
  {
   "cell_type": "code",
   "execution_count": null,
   "metadata": {},
   "outputs": [],
   "source": []
  }
 ],
 "metadata": {
  "kernelspec": {
   "display_name": "Python 3",
   "language": "python",
   "name": "python3"
  },
  "language_info": {
   "codemirror_mode": {
    "name": "ipython",
    "version": 3
   },
   "file_extension": ".py",
   "mimetype": "text/x-python",
   "name": "python",
   "nbconvert_exporter": "python",
   "pygments_lexer": "ipython3",
   "version": "3.6.5"
  }
 },
 "nbformat": 4,
 "nbformat_minor": 2
}
