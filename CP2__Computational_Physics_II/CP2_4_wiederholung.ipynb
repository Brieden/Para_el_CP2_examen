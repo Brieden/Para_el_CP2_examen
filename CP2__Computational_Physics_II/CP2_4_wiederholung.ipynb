{
 "cells": [
  {
   "cell_type": "code",
   "execution_count": 2,
   "metadata": {},
   "outputs": [],
   "source": [
    "%matplotlib inline\n",
    "import numpy as np\n",
    "import matplotlib.pyplot as plt"
   ]
  },
  {
   "cell_type": "code",
   "execution_count": 105,
   "metadata": {},
   "outputs": [
    {
     "name": "stderr",
     "output_type": "stream",
     "text": [
      "/usr/lib/python3.6/site-packages/ipykernel_launcher.py:13: RuntimeWarning: overflow encountered in exp\n",
      "  del sys.path[0]\n"
     ]
    },
    {
     "data": {
      "image/png": "[encoded data removed]",
      "text/plain": [
       "<Figure size 432x288 with 1 Axes>"
      ]
     },
     "metadata": {},
     "output_type": "display_data"
    }
   ],
   "source": [
    "N = 16              #  lenth of the ring\n",
    "J =  1              #  coupling constant\n",
    "T =  np.linspace(-5,5,500)\n",
    "for t in T:\n",
    "    ring = np.random.choice((-1,1),N)\n",
    "    ring = np.ones(N)\n",
    "    for n in range(5):\n",
    "        for i in np.random.permutation(np.arange(N)):\n",
    "            if (ring[(i+1)%N]+ring[(i-1)%N])*ring[i]<0:\n",
    "                ring[i] = -ring[i]\n",
    "            else:\n",
    "                H = -J * sum([ring[i]*ring[(i+1)%N] for i in range(N)])\n",
    "                if np.random.rand() > np.exp(-H/t):\n",
    "                    ring[i] = -ring[i]\n",
    "    plt.plot(t, (np.sum(ring))/N, \"xk\")"
   ]
  },
  {
   "cell_type": "code",
   "execution_count": null,
   "metadata": {},
   "outputs": [],
   "source": []
  },
  {
   "cell_type": "code",
   "execution_count": null,
   "metadata": {},
   "outputs": [],
   "source": []
  },
  {
   "cell_type": "code",
   "execution_count": null,
   "metadata": {},
   "outputs": [],
   "source": []
  },
  {
   "cell_type": "code",
   "execution_count": null,
   "metadata": {},
   "outputs": [],
   "source": []
  },
  {
   "cell_type": "code",
   "execution_count": null,
   "metadata": {},
   "outputs": [],
   "source": []
  }
 ],
 "metadata": {
  "kernelspec": {
   "display_name": "Python 3",
   "language": "python",
   "name": "python3"
  },
  "language_info": {
   "codemirror_mode": {
    "name": "ipython",
    "version": 3
   },
   "file_extension": ".py",
   "mimetype": "text/x-python",
   "name": "python",
   "nbconvert_exporter": "python",
   "pygments_lexer": "ipython3",
   "version": "3.6.5"
  }
 },
 "nbformat": 4,
 "nbformat_minor": 2
}
