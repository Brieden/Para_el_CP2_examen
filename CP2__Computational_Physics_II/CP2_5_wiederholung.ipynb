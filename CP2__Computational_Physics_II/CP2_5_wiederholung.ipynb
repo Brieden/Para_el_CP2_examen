{
 "cells": [
  {
   "cell_type": "code",
   "execution_count": 1,
   "metadata": {},
   "outputs": [],
   "source": [
    "%matplotlib inline\n",
    "import numpy as np\n",
    "import matplotlib.pyplot as plt"
   ]
  },
  {
   "cell_type": "code",
   "execution_count": 4,
   "metadata": {},
   "outputs": [
    {
     "name": "stderr",
     "output_type": "stream",
     "text": [
      "/usr/lib/python3.6/site-packages/ipykernel_launcher.py:23: RuntimeWarning: divide by zero encountered in true_divide\n"
     ]
    },
    {
     "data": {
      "image/png": "[encoded data removed]",
      "text/plain": [
       "<Figure size 432x288 with 1 Axes>"
      ]
     },
     "metadata": {},
     "output_type": "display_data"
    }
   ],
   "source": [
    "def H(i,j):\n",
    "    H = 2*J*spins[i, j]*sum([\n",
    "                            spins[(i+1)%N,j],\n",
    "                            spins[(i-1)%N,j],\n",
    "                            spins[i,(j+1)%N],\n",
    "                            spins[i,(j-1)%N]])\n",
    "    return H\n",
    "\n",
    "N = 16             #  lenth of the ring\n",
    "J =  1              #  coupling constant\n",
    "T =  np.linspace(0,4,5)\n",
    "repeat = 2\n",
    "energie = np.zeros((len(T),repeat))\n",
    "heat = np.zeros((len(T),repeat))\n",
    "mag = np.zeros((len(T),repeat))\n",
    "for nt, t in enumerate(T):\n",
    "    for l in range(repeat):\n",
    "        spins = np.random.choice((-1,1),(N,N))\n",
    "        for n in range(10):\n",
    "            for i in np.random.permutation([(x,y) for x in range(N) for y in range(N)]):\n",
    "                if H(i[0],i[1])<=0:\n",
    "                    spins[i[0], i[1]] *= -1\n",
    "                elif np.exp(-H(i[0],i[1])/t) > np.random.rand():\n",
    "                    spins[i[0], i[1]] *= -1\n",
    "                heat[nt,l] += abs(np.sum(spins))/N/N\n",
    "                energie[nt,l] += H(i[0],i[1])/N/N\n",
    "        mag[nt,l] = abs(np.sum(spins))/N/N\n",
    "        \n",
    "        \n",
    "plt.plot(T,mag,\"xk\")\n",
    "plt.show()"
   ]
  },
  {
   "cell_type": "code",
   "execution_count": 12,
   "metadata": {},
   "outputs": [
    {
     "data": {
      "text/plain": [
       "array([0., 1., 2., 3., 4.])"
      ]
     },
     "execution_count": 12,
     "metadata": {},
     "output_type": "execute_result"
    }
   ],
   "source": [
    "T"
   ]
  },
  {
   "cell_type": "code",
   "execution_count": 11,
   "metadata": {},
   "outputs": [
    {
     "data": {
      "text/plain": [
       "array([0., 1., 2., 3., 4.])"
      ]
     },
     "execution_count": 11,
     "metadata": {},
     "output_type": "execute_result"
    }
   ],
   "source": [
    "T[:np.newaxis]"
   ]
  },
  {
   "cell_type": "code",
   "execution_count": 13,
   "metadata": {},
   "outputs": [
    {
     "data": {
      "text/plain": [
       "array([[0., 1., 2., 3., 4.]])"
      ]
     },
     "execution_count": 13,
     "metadata": {},
     "output_type": "execute_result"
    }
   ],
   "source": [
    "T[np.newaxis]"
   ]
  },
  {
   "cell_type": "code",
   "execution_count": null,
   "metadata": {},
   "outputs": [],
   "source": []
  }
 ],
 "metadata": {
  "kernelspec": {
   "display_name": "Python 3",
   "language": "python",
   "name": "python3"
  },
  "language_info": {
   "codemirror_mode": {
    "name": "ipython",
    "version": 3
   },
   "file_extension": ".py",
   "mimetype": "text/x-python",
   "name": "python",
   "nbconvert_exporter": "python",
   "pygments_lexer": "ipython3",
   "version": "3.6.5"
  }
 },
 "nbformat": 4,
 "nbformat_minor": 2
}
