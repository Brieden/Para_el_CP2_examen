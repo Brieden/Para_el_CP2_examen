{
 "cells": [
  {
   "cell_type": "code",
   "execution_count": 1,
   "metadata": {},
   "outputs": [],
   "source": [
    "import numpy as np\n",
    "import matplotlib.pyplot as plt\n",
    "from random import randint\n",
    "import random\n",
    "import time\n",
    "%matplotlib inline\n",
    "plt.style.use('bmh')\n",
    "plt.rcParams['figure.figsize'] = (15.0, 3.0)\n",
    "plt.rcParams['font.size'] = 16"
   ]
  },
  {
   "cell_type": "code",
   "execution_count": 4,
   "metadata": {},
   "outputs": [],
   "source": [
    "data = np.loadtxt(\"SN_m_tot_V2.0.txt\")"
   ]
  },
  {
   "cell_type": "code",
   "execution_count": 5,
   "metadata": {},
   "outputs": [
    {
     "data": {
      "text/plain": [
       "array([[ 1.749000e+03,  1.000000e+00,  1.749042e+03,  9.670000e+01,\n",
       "        -1.000000e+00, -1.000000e+00],\n",
       "       [ 1.749000e+03,  2.000000e+00,  1.749123e+03,  1.043000e+02,\n",
       "        -1.000000e+00, -1.000000e+00],\n",
       "       [ 1.749000e+03,  3.000000e+00,  1.749204e+03,  1.167000e+02,\n",
       "        -1.000000e+00, -1.000000e+00],\n",
       "       ...,\n",
       "       [ 2.016000e+03,  7.000000e+00,  2.016540e+03,  3.250000e+01,\n",
       "         3.700000e+00,  9.100000e+02],\n",
       "       [ 2.016000e+03,  8.000000e+00,  2.016624e+03,  5.070000e+01,\n",
       "         4.400000e+00,  8.790000e+02],\n",
       "       [ 2.016000e+03,  9.000000e+00,  2.016708e+03,  4.470000e+01,\n",
       "         3.800000e+00,  7.420000e+02]])"
      ]
     },
     "execution_count": 5,
     "metadata": {},
     "output_type": "execute_result"
    }
   ],
   "source": [
    "plt.data()"
   ]
  },
  {
   "cell_type": "code",
   "execution_count": null,
   "metadata": {},
   "outputs": [],
   "source": []
  }
 ],
 "metadata": {
  "kernelspec": {
   "display_name": "Python 3",
   "language": "python",
   "name": "python3"
  },
  "language_info": {
   "codemirror_mode": {
    "name": "ipython",
    "version": 3
   },
   "file_extension": ".py",
   "mimetype": "text/x-python",
   "name": "python",
   "nbconvert_exporter": "python",
   "pygments_lexer": "ipython3",
   "version": "3.6.5"
  }
 },
 "nbformat": 4,
 "nbformat_minor": 2
}
